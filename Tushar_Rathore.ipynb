{
  "nbformat": 4,
  "nbformat_minor": 0,
  "metadata": {
    "colab": {
      "name": " Tushar Rathore.ipynb",
      "provenance": [],
      "collapsed_sections": []
    },
    "kernelspec": {
      "name": "python3",
      "display_name": "Python 3"
    },
    "language_info": {
      "name": "python"
    }
  },
  "cells": [
    {
      "cell_type": "markdown",
      "metadata": {
        "id": "eVLVrdY73eDu"
      },
      "source": [
        "We generally start our code by importing the libraries which we will throughout the programe."
      ]
    },
    {
      "cell_type": "code",
      "metadata": {
        "id": "qf_ma_Zp4Gnj"
      },
      "source": [
        "import numpy as np\n",
        "import pandas as pd\n",
        "import sklearn"
      ],
      "execution_count": null,
      "outputs": []
    },
    {
      "cell_type": "markdown",
      "metadata": {
        "id": "w_1FKV3C4Rlr"
      },
      "source": [
        "Now we will load the data that we will be using to train our model\n"
      ]
    },
    {
      "cell_type": "markdown",
      "metadata": {
        "id": "dEXF9pbj4kfu"
      },
      "source": [
        "Here we are using boston house pricing dataset which is available in the sklearn liberary itself. "
      ]
    },
    {
      "cell_type": "code",
      "metadata": {
        "id": "pxe5mMMG43hK"
      },
      "source": [
        "from sklearn.datasets import load_boston\n",
        "df = load_boston()"
      ],
      "execution_count": null,
      "outputs": []
    },
    {
      "cell_type": "code",
      "metadata": {
        "colab": {
          "base_uri": "https://localhost:8080/"
        },
        "id": "q89Oy7Ru7pUQ",
        "outputId": "ef286088-cda5-465f-f3b6-d77adee7905e"
      },
      "source": [
        "df.keys() # Returns all the keys of the dataset dictionary"
      ],
      "execution_count": null,
      "outputs": [
        {
          "output_type": "execute_result",
          "data": {
            "text/plain": [
              "dict_keys(['data', 'target', 'feature_names', 'DESCR', 'filename'])"
            ]
          },
          "metadata": {
            "tags": []
          },
          "execution_count": 12
        }
      ]
    },
    {
      "cell_type": "code",
      "metadata": {
        "id": "woRIl7Vd8NSr"
      },
      "source": [
        "print(df.DESCR) # Info about the dataset"
      ],
      "execution_count": null,
      "outputs": []
    },
    {
      "cell_type": "markdown",
      "metadata": {
        "id": "koiay0Qj9JKN"
      },
      "source": [
        "We convert our dataset into the pandas dataframe, so that it is easier to analyse the data"
      ]
    },
    {
      "cell_type": "code",
      "metadata": {
        "id": "tqHwgxvu9W3y"
      },
      "source": [
        "import pandas as pd\n",
        "boston = pd.DataFrame(df.data, columns=df.feature_names)\n",
        "boston.head()"
      ],
      "execution_count": null,
      "outputs": []
    },
    {
      "cell_type": "markdown",
      "metadata": {
        "id": "R4uXe1bF_p-c"
      },
      "source": [
        "Adding a new column of target values to the dataframe"
      ]
    },
    {
      "cell_type": "code",
      "metadata": {
        "id": "3e-1sRkX_yAu"
      },
      "source": [
        "boston['MEDV'] = df.target\n",
        "boston.head()"
      ],
      "execution_count": null,
      "outputs": []
    },
    {
      "cell_type": "markdown",
      "metadata": {
        "id": "MV_f9M3qARft"
      },
      "source": [
        "Check if the dataset contains any null value or not"
      ]
    },
    {
      "cell_type": "code",
      "metadata": {
        "id": "oBUqv9H_AZuj"
      },
      "source": [
        "boston.isnull()"
      ],
      "execution_count": null,
      "outputs": []
    },
    {
      "cell_type": "code",
      "metadata": {
        "id": "BfO8TzylAllV"
      },
      "source": [
        "boston.isnull().sum()"
      ],
      "execution_count": null,
      "outputs": []
    },
    {
      "cell_type": "markdown",
      "metadata": {
        "id": "vE4g_T9yAw_I"
      },
      "source": [
        "We never train the model on all the data that we have, we always make sure to atleast have a test dataset, which is different from the training dataset."
      ]
    },
    {
      "cell_type": "code",
      "metadata": {
        "id": "xcQWHPVRBG5P"
      },
      "source": [
        "from sklearn.model_selection import train_test_split\n",
        "X = boston.drop('MEDV', axis=1)\n",
        "Y = boston['MEDV']\n",
        "X_train, X_test, Y_train, Y_test = train_test_split(X,Y, test_size = 0.15, random_state=5)\n",
        "print(X_train.shape)\n",
        "print(X_test.shape)\n",
        "print(Y_train.shape)\n",
        "print(Y_test.shape)                           "
      ],
      "execution_count": null,
      "outputs": []
    },
    {
      "cell_type": "markdown",
      "metadata": {
        "id": "BJ8UErn0CyT8"
      },
      "source": [
        "Now let's import the Linear Regression model from sklearn and train it on the training dataset"
      ]
    },
    {
      "cell_type": "code",
      "metadata": {
        "id": "8vYC3Nk-Fedi"
      },
      "source": [
        "from sklearn.linear_model import LinearRegression\n",
        "from sklearn.metrics import mean_squared_error"
      ],
      "execution_count": null,
      "outputs": []
    },
    {
      "cell_type": "code",
      "metadata": {
        "id": "1fNsaW36EyRJ"
      },
      "source": [
        "## FITTING MODEL ON THE TRAINING DATASET\n",
        "\n",
        "lin_model =  LinearRegression()\n",
        "\n",
        "lin_model.fit(X_train, Y_train)"
      ],
      "execution_count": null,
      "outputs": []
    },
    {
      "cell_type": "code",
      "metadata": {
        "id": "R45sGRRHFp93"
      },
      "source": [
        "import numpy as np\n",
        "y_train_predict = lin_model.predict(X_train)\n",
        "rmse = (np.sqrt(mean_squared_error(Y_train, y_train_predict)))\n",
        "\n",
        "print(\"The model performance for training set\")\n",
        "print('RMSE IS {}'.format(rmse))\n",
        "print(\"/n\")\n",
        "\n",
        "# on testing set\n",
        "y_test_predict = lin_model.predict(X_test)\n",
        "rmse = (np.sqrt(mean_squared_error(Y_test, y_test_predict)))\n",
        "\n",
        "print(\"The model performance for training set\")\n",
        "print('RMSE is {}' .format(rmse))"
      ],
      "execution_count": null,
      "outputs": []
    }
  ]
}